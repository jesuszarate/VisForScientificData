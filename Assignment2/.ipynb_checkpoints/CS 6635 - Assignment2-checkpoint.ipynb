{
 "cells": [
  {
   "cell_type": "markdown",
   "metadata": {},
   "source": [
    "# CS 6635 Spring Semester 2018\n",
    "\n",
    "## Assignment 2\n",
    "## Jesus Zarate"
   ]
  },
  {
   "cell_type": "markdown",
   "metadata": {},
   "source": [
    "# Part 1: Load the data"
   ]
  },
  {
   "cell_type": "markdown",
   "metadata": {},
   "source": [
    "### 1. Q1. Visualization of Statistics for 1-D data"
   ]
  },
  {
   "cell_type": "markdown",
   "metadata": {},
   "source": [
    "<ol>\n",
    "  <li>\n",
    "  Which number occurred the most frequently and how many times did it occur?\n",
    "  <!--![Histogram](images/histogram.png)-->\n",
    "  <img src=\"images/histogram.png\" alt=\"Histogram\">\n",
    "\n",
    "10.395 occurred the most and it occurred 10 times\n",
    "  </li>\n",
    "  <br>\n",
    "  <li>\n",
    "  How many numbers were never used by the class? 2) Line Charts: Follow the same method as for histograms to render the line chart. Please add the left title as “Value” and the bottom axis title as the “Row ID” through the properties panel. Also, change the line thickness to 3 units.\n",
    "  <br>\n",
    "  33, 38, 39, 48, 56,57, 68, 74, 81, 83, 84, 90, 91, 93, 99, 100\n",
    "<!-- ![Line Chart](images/linechart.png) -->\n",
    "  <img src=\"images/linechart.png\" alt=\"Line Chart\">\n",
    "  </li>\n",
    "</ol> \n"
   ]
  },
  {
   "cell_type": "markdown",
   "metadata": {},
   "source": [
    "### Q2. Visualization of 2d Images"
   ]
  },
  {
   "cell_type": "markdown",
   "metadata": {},
   "source": [
    "<ol>\n",
    "<li>\n",
    "What threshold did you use for capturing the riverbed? Experiment with other thresholds and explain what features you may or may not have missed with this approach.\n",
    "<br>\n",
    "I used a threshold of 106. I experimented with higher values, however it would cut some lighter orange values, and if I tried lower values I was getting orange blue values. \n",
    " <!-- ![Histogram](images/2dImageVis.png) -->\n",
    "  <img src=\"images/2dImageVis.png\" alt=\"2dImageVis\">\n",
    "</li>\n",
    "<br>\n",
    "<li>\n",
    "Using the Information panel, report the number of points in the thresholded image. Note that ParaView automatically creates cells from an input image, implicitly forming a structured quad mesh.<br>\n",
    "4617405\n",
    "</li>\n",
    "</ol>"
   ]
  },
  {
   "cell_type": "markdown",
   "metadata": {},
   "source": [
    "### Q3. Exploring Data on Polygonal Meshes"
   ]
  },
  {
   "cell_type": "markdown",
   "metadata": {},
   "source": [
    "<ol>\n",
    "<li>\n",
    "What were the minimum and maximum values that best captured the single cylinder associated with the bolt’s cylinder?\n",
    "I used <br>\n",
    "<b>Min: </b> 0<br>\n",
    "<b>Min: </b> 43<br>\n",
    "<br>\n",
    "<!--![Bolt](images/bolt.png)-->\n",
    "  <img src=\"images/bolt.png\" alt=\"Bolt\">\n",
    "\n",
    "</li>\n",
    "<br>\n",
    "<li>\n",
    "How many ventilation slots are there?\n",
    "<!-- ![Vents](images/vents.png) -->\n",
    "  <img src=\"images/vents.png\" alt=\"Vents\">\n",
    "\n",
    "48 ventilation slots\n",
    "</li>\n",
    "</ol>"
   ]
  },
  {
   "cell_type": "markdown",
   "metadata": {},
   "source": [
    "### Q4. Visualization of 3D Images"
   ]
  },
  {
   "cell_type": "markdown",
   "metadata": {},
   "source": [
    "![3dImageVis](images/3dImageVis.png)"
   ]
  },
  {
   "cell_type": "markdown",
   "metadata": {},
   "source": [
    "# Part 2: Code with Python Script"
   ]
  },
  {
   "cell_type": "markdown",
   "metadata": {},
   "source": [
    "### Q1. Use batch script to create a pipeline"
   ]
  },
  {
   "cell_type": "markdown",
   "metadata": {},
   "source": [
    "1. Use batch script to render 16 arrows in the renderview. Set the Orientation of the arrow and let them rotate 360° in XY plane. Change the propoerty \"TipResolution\" to 12. If you render correctly, You will see the first figure below in Paraview.\n",
    "![arrows](images/arrows.png)\n",
    "\n",
    "2. Hide the arrows, Then apply shrink filter & extractedge filter to the arrow. Render the filter in the renderview. you will see the second figure below if you render correctly. Please save the state with \"A2P2Q1_1.pvsm\" & \"A2P2Q1_2.pvsm\" and submit thoes two pvsm file with the python script.\n",
    "![shrink](images/shrinkedge.png)\n"
   ]
  },
  {
   "cell_type": "markdown",
   "metadata": {},
   "source": [
    "### Q2. Read file and process it with Python script"
   ]
  },
  {
   "cell_type": "markdown",
   "metadata": {},
   "source": [
    "1. Load the data \"2d.vti\" in Assignment2-Data.zip into the view with python script. Plot the scalar data use filter \"PlotOverline\" with script and render it a multiple view. You will generate a figure like this:\n",
    "![read image](images/readimage.png)\n",
    "\n",
    "2. Find a filter and apply it with Python script to generate a 3D map from the 2D scalar data. Change the filter's property in the script to change the scale factor of scale data. Please comment in the python script that which filter you use in this task. Please submit the python script file. If you find the right filter, you will generate a figure like this:\n",
    "![Warp View](images/warp.png)"
   ]
  }
 ],
 "metadata": {
  "kernelspec": {
   "display_name": "Python 3",
   "language": "python",
   "name": "python3"
  },
  "language_info": {
   "codemirror_mode": {
    "name": "ipython",
    "version": 3
   },
   "file_extension": ".py",
   "mimetype": "text/x-python",
   "name": "python",
   "nbconvert_exporter": "python",
   "pygments_lexer": "ipython3",
   "version": "3.6.0"
  }
 },
 "nbformat": 4,
 "nbformat_minor": 2
}
